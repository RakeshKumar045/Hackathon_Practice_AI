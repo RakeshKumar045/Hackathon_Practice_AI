{
 "cells": [
  {
   "cell_type": "code",
   "execution_count": 33,
   "metadata": {},
   "outputs": [
    {
     "name": "stdout",
     "output_type": "stream",
     "text": [
      "1.15.0-dev20190819\n"
     ]
    }
   ],
   "source": [
    "# TensorFlow and tf.keras\n",
    "import tensorflow as tf\n",
    "from tensorflow import keras\n",
    "\n",
    "# Helper libraries\n",
    "import numpy as np\n",
    "import matplotlib.pyplot as plt\n",
    "\n",
    "print(tf.__version__)"
   ]
  },
  {
   "cell_type": "code",
   "execution_count": 32,
   "metadata": {},
   "outputs": [],
   "source": [
    "# !pip install tensorflow\n",
    "# pip install tf-nightly\n",
    "# pip install tensorflow==2.0.0-beta1 \n"
   ]
  },
  {
   "cell_type": "code",
   "execution_count": 11,
   "metadata": {},
   "outputs": [],
   "source": [
    "mnist = keras.datasets.mnist"
   ]
  },
  {
   "cell_type": "code",
   "execution_count": 18,
   "metadata": {},
   "outputs": [],
   "source": [
    "# x_train1 , y_train1, x_test1, y_test1 = mnist.load_data() #get error\n",
    "(x_train , y_train), (x_test, y_test) = mnist.load_data()\n"
   ]
  },
  {
   "cell_type": "code",
   "execution_count": 21,
   "metadata": {},
   "outputs": [
    {
     "name": "stdout",
     "output_type": "stream",
     "text": [
      "(60000, 28, 28)\n",
      "(10000, 28, 28)\n",
      "(60000,)\n",
      "(10000,)\n"
     ]
    }
   ],
   "source": [
    "print(x_train.shape)\n",
    "print(x_test.shape)\n",
    "print(y_train.shape)\n",
    "print(y_test.shape)"
   ]
  },
  {
   "cell_type": "code",
   "execution_count": 22,
   "metadata": {},
   "outputs": [],
   "source": [
    "x_train , x_test = x_train / 255.0, x_test / 255.0"
   ]
  },
  {
   "cell_type": "code",
   "execution_count": 31,
   "metadata": {},
   "outputs": [
    {
     "name": "stdout",
     "output_type": "stream",
     "text": [
      "(60000, 28, 28)\n",
      "(10000, 28, 28)\n"
     ]
    }
   ],
   "source": [
    "print(x_train.shape)\n",
    "print(x_test.shape)\n"
   ]
  },
  {
   "cell_type": "code",
   "execution_count": 24,
   "metadata": {},
   "outputs": [
    {
     "name": "stderr",
     "output_type": "stream",
     "text": [
      "W0819 21:54:09.948817 17820 deprecation.py:506] From C:\\Users\\RKumarX0105498\\AppData\\Local\\Continuum\\anaconda3\\lib\\site-packages\\tensorflow_core\\python\\ops\\resource_variable_ops.py:1630: calling BaseResourceVariable.__init__ (from tensorflow.python.ops.resource_variable_ops) with constraint is deprecated and will be removed in a future version.\n",
      "Instructions for updating:\n",
      "If using Keras pass *_constraint arguments to layers.\n"
     ]
    }
   ],
   "source": [
    "model = keras.models.Sequential([\n",
    "    keras.layers.Flatten(input_shape = (28,28)),\n",
    "    keras.layers.Dense(128, activation = \"relu\"),\n",
    "    keras.layers.Dropout(0.2),\n",
    "    keras.layers.Dense(10 , activation = \"softmax\")\n",
    "    \n",
    "])"
   ]
  },
  {
   "cell_type": "code",
   "execution_count": 34,
   "metadata": {},
   "outputs": [],
   "source": [
    "# model.compile(\n",
    "# optimizer = \"adam\",\n",
    "#     loss = \"categoricalCrossEntropy\",\n",
    "#     metrics= [ \"accuracy\"]\n",
    "# )\n",
    "\n",
    "\n",
    "model.compile(optimizer='adam',\n",
    "              loss='sparse_categorical_crossentropy',\n",
    "              metrics=['accuracy'])"
   ]
  },
  {
   "cell_type": "code",
   "execution_count": 35,
   "metadata": {},
   "outputs": [
    {
     "name": "stdout",
     "output_type": "stream",
     "text": [
      "Train on 60000 samples\n",
      "Epoch 1/20\n",
      "60000/60000 [==============================] - 4s 63us/sample - loss: 0.1436 - acc: 0.9570\n",
      "Epoch 2/20\n",
      "60000/60000 [==============================] - 3s 49us/sample - loss: 0.1054 - acc: 0.9684\n",
      "Epoch 3/20\n",
      "60000/60000 [==============================] - 3s 48us/sample - loss: 0.0871 - acc: 0.9739\n",
      "Epoch 4/20\n",
      "60000/60000 [==============================] - 3s 48us/sample - loss: 0.0739 - acc: 0.9766\n",
      "Epoch 5/20\n",
      "60000/60000 [==============================] - 3s 52us/sample - loss: 0.0636 - acc: 0.9800\n",
      "Epoch 6/20\n",
      "60000/60000 [==============================] - 4s 60us/sample - loss: 0.0580 - acc: 0.9817\n",
      "Epoch 7/20\n",
      "60000/60000 [==============================] - 3s 50us/sample - loss: 0.0521 - acc: 0.9829\n",
      "Epoch 8/20\n",
      "60000/60000 [==============================] - 3s 49us/sample - loss: 0.0480 - acc: 0.9843\n",
      "Epoch 9/20\n",
      "60000/60000 [==============================] - 3s 52us/sample - loss: 0.0440 - acc: 0.9857\n",
      "Epoch 10/20\n",
      "60000/60000 [==============================] - 3s 51us/sample - loss: 0.0404 - acc: 0.9863\n",
      "Epoch 11/20\n",
      "60000/60000 [==============================] - 3s 51us/sample - loss: 0.0379 - acc: 0.9870\n",
      "Epoch 12/20\n",
      "60000/60000 [==============================] - 3s 49us/sample - loss: 0.0360 - acc: 0.9877\n",
      "Epoch 13/20\n",
      "60000/60000 [==============================] - 3s 49us/sample - loss: 0.0318 - acc: 0.9894\n",
      "Epoch 14/20\n",
      "60000/60000 [==============================] - 3s 51us/sample - loss: 0.0347 - acc: 0.9882\n",
      "Epoch 15/20\n",
      "60000/60000 [==============================] - 3s 52us/sample - loss: 0.0306 - acc: 0.9894\n",
      "Epoch 16/20\n",
      "60000/60000 [==============================] - 3s 53us/sample - loss: 0.0287 - acc: 0.9900\n",
      "Epoch 17/20\n",
      "60000/60000 [==============================] - 3s 52us/sample - loss: 0.0291 - acc: 0.9905\n",
      "Epoch 18/20\n",
      "60000/60000 [==============================] - 3s 46us/sample - loss: 0.0262 - acc: 0.9912\n",
      "Epoch 19/20\n",
      "60000/60000 [==============================] - 3s 46us/sample - loss: 0.0264 - acc: 0.9908\n",
      "Epoch 20/20\n",
      "60000/60000 [==============================] - 3s 46us/sample - loss: 0.0256 - acc: 0.9912\n"
     ]
    },
    {
     "data": {
      "text/plain": [
       "<tensorflow.python.keras.callbacks.History at 0x20972779a90>"
      ]
     },
     "execution_count": 35,
     "metadata": {},
     "output_type": "execute_result"
    }
   ],
   "source": [
    "model.fit(x_train, y_train,epochs=20)"
   ]
  },
  {
   "cell_type": "code",
   "execution_count": 36,
   "metadata": {},
   "outputs": [
    {
     "name": "stdout",
     "output_type": "stream",
     "text": [
      "Train on 60000 samples\n",
      "Epoch 1/50\n",
      "60000/60000 [==============================] - 3s 47us/sample - loss: 0.0238 - acc: 0.9917\n",
      "Epoch 2/50\n",
      "60000/60000 [==============================] - 3s 44us/sample - loss: 0.0225 - acc: 0.9922\n",
      "Epoch 3/50\n",
      "60000/60000 [==============================] - 3s 45us/sample - loss: 0.0219 - acc: 0.9923\n",
      "Epoch 4/50\n",
      "60000/60000 [==============================] - 3s 47us/sample - loss: 0.0229 - acc: 0.9920\n",
      "Epoch 5/50\n",
      "60000/60000 [==============================] - 3s 45us/sample - loss: 0.0219 - acc: 0.9922\n",
      "Epoch 6/50\n",
      "60000/60000 [==============================] - 3s 48us/sample - loss: 0.0207 - acc: 0.9927\n",
      "Epoch 7/50\n",
      "60000/60000 [==============================] - 3s 48us/sample - loss: 0.0224 - acc: 0.9921\n",
      "Epoch 8/50\n",
      "60000/60000 [==============================] - 3s 48us/sample - loss: 0.0201 - acc: 0.9926\n",
      "Epoch 9/50\n",
      "60000/60000 [==============================] - 3s 45us/sample - loss: 0.0194 - acc: 0.9933\n",
      "Epoch 10/50\n",
      "60000/60000 [==============================] - 3s 45us/sample - loss: 0.0183 - acc: 0.9937\n",
      "Epoch 11/50\n",
      "60000/60000 [==============================] - 3s 46us/sample - loss: 0.0194 - acc: 0.9929\n",
      "Epoch 12/50\n",
      "60000/60000 [==============================] - 3s 49us/sample - loss: 0.0175 - acc: 0.9943\n",
      "Epoch 13/50\n",
      "60000/60000 [==============================] - 3s 45us/sample - loss: 0.0194 - acc: 0.9933\n",
      "Epoch 14/50\n",
      "60000/60000 [==============================] - 3s 46us/sample - loss: 0.0189 - acc: 0.9937\n",
      "Epoch 15/50\n",
      "60000/60000 [==============================] - 3s 47us/sample - loss: 0.0173 - acc: 0.9940\n",
      "Epoch 16/50\n",
      "60000/60000 [==============================] - 3s 47us/sample - loss: 0.0178 - acc: 0.9935\n",
      "Epoch 17/50\n",
      "60000/60000 [==============================] - 2s 41us/sample - loss: 0.0161 - acc: 0.9944\n",
      "Epoch 18/50\n",
      "60000/60000 [==============================] - 3s 45us/sample - loss: 0.0178 - acc: 0.9936\n",
      "Epoch 19/50\n",
      "60000/60000 [==============================] - 2s 41us/sample - loss: 0.0173 - acc: 0.9944\n",
      "Epoch 20/50\n",
      "60000/60000 [==============================] - 2s 41us/sample - loss: 0.0157 - acc: 0.9947\n",
      "Epoch 21/50\n",
      "60000/60000 [==============================] - 3s 42us/sample - loss: 0.0159 - acc: 0.9947\n",
      "Epoch 22/50\n",
      "60000/60000 [==============================] - 2s 40us/sample - loss: 0.0167 - acc: 0.9944\n",
      "Epoch 23/50\n",
      "60000/60000 [==============================] - 3s 45us/sample - loss: 0.0153 - acc: 0.9949\n",
      "Epoch 24/50\n",
      "60000/60000 [==============================] - 3s 53us/sample - loss: 0.0166 - acc: 0.9947\n",
      "Epoch 25/50\n",
      "60000/60000 [==============================] - 3s 42us/sample - loss: 0.0152 - acc: 0.9948\n",
      "Epoch 26/50\n",
      "60000/60000 [==============================] - 3s 43us/sample - loss: 0.0156 - acc: 0.9946\n",
      "Epoch 27/50\n",
      "60000/60000 [==============================] - 3s 43us/sample - loss: 0.0157 - acc: 0.9943\n",
      "Epoch 28/50\n",
      "60000/60000 [==============================] - 3s 49us/sample - loss: 0.0134 - acc: 0.9952\n",
      "Epoch 29/50\n",
      "60000/60000 [==============================] - 3s 43us/sample - loss: 0.0162 - acc: 0.9943\n",
      "Epoch 30/50\n",
      "60000/60000 [==============================] - 3s 58us/sample - loss: 0.0163 - acc: 0.9947\n",
      "Epoch 31/50\n",
      "60000/60000 [==============================] - 9s 152us/sample - loss: 0.0137 - acc: 0.9953\n",
      "Epoch 32/50\n",
      "60000/60000 [==============================] - 5s 90us/sample - loss: 0.0145 - acc: 0.9953\n",
      "Epoch 33/50\n",
      "60000/60000 [==============================] - 7s 114us/sample - loss: 0.0153 - acc: 0.9949\n",
      "Epoch 34/50\n",
      "60000/60000 [==============================] - 6s 94us/sample - loss: 0.0152 - acc: 0.9945\n",
      "Epoch 35/50\n",
      "60000/60000 [==============================] - 5s 77us/sample - loss: 0.0147 - acc: 0.9951\n",
      "Epoch 36/50\n",
      "60000/60000 [==============================] - 5s 85us/sample - loss: 0.0136 - acc: 0.9952\n",
      "Epoch 37/50\n",
      "60000/60000 [==============================] - 4s 75us/sample - loss: 0.0146 - acc: 0.9954\n",
      "Epoch 38/50\n",
      "60000/60000 [==============================] - 4s 71us/sample - loss: 0.0146 - acc: 0.9949\n",
      "Epoch 39/50\n",
      "60000/60000 [==============================] - 5s 86us/sample - loss: 0.0141 - acc: 0.99521s - loss: \n",
      "Epoch 40/50\n",
      "60000/60000 [==============================] - 5s 81us/sample - loss: 0.0128 - acc: 0.9957\n",
      "Epoch 41/50\n",
      "60000/60000 [==============================] - 3s 56us/sample - loss: 0.0153 - acc: 0.9952\n",
      "Epoch 42/50\n",
      "60000/60000 [==============================] - 3s 53us/sample - loss: 0.0134 - acc: 0.9956\n",
      "Epoch 43/50\n",
      "60000/60000 [==============================] - 3s 54us/sample - loss: 0.0150 - acc: 0.9952\n",
      "Epoch 44/50\n",
      "60000/60000 [==============================] - 3s 54us/sample - loss: 0.0129 - acc: 0.9955\n",
      "Epoch 45/50\n",
      "60000/60000 [==============================] - 3s 48us/sample - loss: 0.0133 - acc: 0.9956\n",
      "Epoch 46/50\n",
      "60000/60000 [==============================] - 3s 52us/sample - loss: 0.0132 - acc: 0.9956\n",
      "Epoch 47/50\n",
      "60000/60000 [==============================] - 3s 46us/sample - loss: 0.0137 - acc: 0.9953\n",
      "Epoch 48/50\n",
      "60000/60000 [==============================] - 3s 52us/sample - loss: 0.0156 - acc: 0.9953\n",
      "Epoch 49/50\n",
      "60000/60000 [==============================] - 3s 48us/sample - loss: 0.0125 - acc: 0.9959\n",
      "Epoch 50/50\n",
      "60000/60000 [==============================] - 3s 55us/sample - loss: 0.0133 - acc: 0.9958\n"
     ]
    },
    {
     "data": {
      "text/plain": [
       "<tensorflow.python.keras.callbacks.History at 0x20971da8208>"
      ]
     },
     "execution_count": 36,
     "metadata": {},
     "output_type": "execute_result"
    }
   ],
   "source": [
    "model.fit(x_train, y_train,epochs=50)"
   ]
  },
  {
   "cell_type": "code",
   "execution_count": 29,
   "metadata": {},
   "outputs": [
    {
     "name": "stdout",
     "output_type": "stream",
     "text": [
      "10000/10000 [==============================] - 0s 46us/sample - loss: 0.1406 - acc: 0.9573\n"
     ]
    }
   ],
   "source": [
    "evaluate = model.evaluate(x_test, y_test)"
   ]
  },
  {
   "cell_type": "code",
   "execution_count": 38,
   "metadata": {},
   "outputs": [
    {
     "name": "stdout",
     "output_type": "stream",
     "text": [
      "10000/10000 [==============================] - 0s 42us/sample - loss: 0.1131 - acc: 0.9825\n",
      "test accuracy :  0.9825\n",
      "test loss :  0.11307381223951041\n"
     ]
    }
   ],
   "source": [
    "test_loss, test_accuracy = model.evaluate(x_test, y_test)\n",
    "print(\"test accuracy : \", test_accuracy)\n",
    "print(\"test loss : \",test_loss)"
   ]
  },
  {
   "cell_type": "code",
   "execution_count": null,
   "metadata": {},
   "outputs": [],
   "source": []
  }
 ],
 "metadata": {
  "kernelspec": {
   "display_name": "Python 3",
   "language": "python",
   "name": "python3"
  },
  "language_info": {
   "codemirror_mode": {
    "name": "ipython",
    "version": 3
   },
   "file_extension": ".py",
   "mimetype": "text/x-python",
   "name": "python",
   "nbconvert_exporter": "python",
   "pygments_lexer": "ipython3",
   "version": "3.7.3"
  }
 },
 "nbformat": 4,
 "nbformat_minor": 2
}
